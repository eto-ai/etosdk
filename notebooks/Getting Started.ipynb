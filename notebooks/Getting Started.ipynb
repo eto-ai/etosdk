{
 "cells": [
  {
   "cell_type": "markdown",
   "id": "15e50eb7-f92f-4500-8106-db207dd5886d",
   "metadata": {},
   "source": [
    "# A simple intro to Eto Labs SDK"
   ]
  },
  {
   "cell_type": "markdown",
   "id": "d1f432b2-0caf-4bca-be6e-4bee267682ab",
   "metadata": {},
   "source": [
    "The Eto Labs SDK helps you seamlessly manage your deep learning datasets. <br>\n",
    "It seeks to make your existing workflow 10x easier. <br>\n",
    "Let's take a look at the basic features available on the platform."
   ]
  },
  {
   "cell_type": "code",
   "execution_count": 2,
   "id": "c85f0db9-31bb-4893-b29c-c3b9e8e0c9a0",
   "metadata": {},
   "outputs": [],
   "source": [
    "import os\n",
    "import eto\n",
    "#eto.configure(account='demo', token=os.environ.get('ETO_API_TOKEN')) \n",
    "eto.config.Config.create_config(url='http://localhost:5000', token='testtest')"
   ]
  },
  {
   "cell_type": "markdown",
   "id": "8438eac7-0894-4786-afd5-fff4e0781e37",
   "metadata": {},
   "source": [
    "## Ingest a Coco dataset"
   ]
  },
  {
   "cell_type": "code",
   "execution_count": 13,
   "id": "a5769ab1-3ca1-48d1-95c3-8db3a42db552",
   "metadata": {},
   "outputs": [
    {
     "data": {
      "text/plain": [
       "{'created_at': '2021-12-17T22:33:22.016206+00:00',\n",
       " 'id': 'db835055-5eb4-4336-970e-c1cb84177c6b',\n",
       " 'status': 'created'}"
      ]
     },
     "execution_count": 13,
     "metadata": {},
     "output_type": "execute_result"
    }
   ],
   "source": [
    "eto.ingest_coco('little_coco', source={'image_dir': 's3://eto-public/little_coco_raw/val2017/',\n",
    "                                       'annotation': 's3://eto-public/little_coco_raw/annotations/instances_val2017.json'},\n",
    "                mode='overwrite')"
   ]
  },
  {
   "cell_type": "markdown",
   "id": "d75bd682-2abe-4569-922f-f15e9c102ce0",
   "metadata": {},
   "source": [
    "## Access the data registry"
   ]
  },
  {
   "cell_type": "code",
   "execution_count": 3,
   "id": "1a4eae06-7d73-4f54-8ea4-4e334568a97e",
   "metadata": {},
   "outputs": [
    {
     "data": {
      "text/plain": [
       "[{'created_at': '2021-12-17T22:14:59',\n",
       "  'dataset_id': 'little_coco',\n",
       "  'project_id': 'default',\n",
       "  'uri': 'file:/home/chang/code/eto/sophon/src/api/spark-warehouse/little_coco'}]"
      ]
     },
     "execution_count": 3,
     "metadata": {},
     "output_type": "execute_result"
    }
   ],
   "source": [
    "eto.list_datasets()"
   ]
  },
  {
   "cell_type": "code",
   "execution_count": 4,
   "id": "60a1dcaf-740f-4944-af05-075b1acd2104",
   "metadata": {
    "tags": []
   },
   "outputs": [
    {
     "data": {
      "text/plain": [
       "{'created_at': '2021-12-17T22:14:59',\n",
       " 'dataset_id': 'little_coco',\n",
       " 'project_id': 'default',\n",
       " 'schema': {'fields': [{'metadata': {},\n",
       "                        'name': 'date_captured',\n",
       "                        'nullable': True,\n",
       "                        'type': 'string'},\n",
       "                       {'metadata': {},\n",
       "                        'name': 'width',\n",
       "                        'nullable': True,\n",
       "                        'type': 'integer'},\n",
       "                       {'metadata': {},\n",
       "                        'name': 'height',\n",
       "                        'nullable': True,\n",
       "                        'type': 'integer'},\n",
       "                       {'metadata': {},\n",
       "                        'name': 'file_name',\n",
       "                        'nullable': True,\n",
       "                        'type': 'string'},\n",
       "                       {'metadata': {},\n",
       "                        'name': 'image_id',\n",
       "                        'nullable': True,\n",
       "                        'type': 'integer'},\n",
       "                       {'metadata': {},\n",
       "                        'name': 'annotations',\n",
       "                        'nullable': True,\n",
       "                        'type': {'containsNull': True,\n",
       "                                 'elementType': {'fields': [{'metadata': {},\n",
       "                                                             'name': 'image_id',\n",
       "                                                             'nullable': True,\n",
       "                                                             'type': 'integer'},\n",
       "                                                            {'metadata': {},\n",
       "                                                             'name': 'area',\n",
       "                                                             'nullable': True,\n",
       "                                                             'type': 'double'},\n",
       "                                                            {'metadata': {},\n",
       "                                                             'name': 'label',\n",
       "                                                             'nullable': True,\n",
       "                                                             'type': 'string'},\n",
       "                                                            {'metadata': {},\n",
       "                                                             'name': 'label_id',\n",
       "                                                             'nullable': True,\n",
       "                                                             'type': 'integer'},\n",
       "                                                            {'metadata': {},\n",
       "                                                             'name': 'ann_id',\n",
       "                                                             'nullable': True,\n",
       "                                                             'type': 'long'},\n",
       "                                                            {'metadata': {},\n",
       "                                                             'name': 'bbox',\n",
       "                                                             'nullable': True,\n",
       "                                                             'type': {'fields': [{'metadata': {},\n",
       "                                                                                  'name': 'xmin',\n",
       "                                                                                  'nullable': True,\n",
       "                                                                                  'type': 'double'},\n",
       "                                                                                 {'metadata': {},\n",
       "                                                                                  'name': 'ymin',\n",
       "                                                                                  'nullable': True,\n",
       "                                                                                  'type': 'double'},\n",
       "                                                                                 {'metadata': {},\n",
       "                                                                                  'name': 'xmax',\n",
       "                                                                                  'nullable': True,\n",
       "                                                                                  'type': 'double'},\n",
       "                                                                                 {'metadata': {},\n",
       "                                                                                  'name': 'ymax',\n",
       "                                                                                  'nullable': True,\n",
       "                                                                                  'type': 'double'}],\n",
       "                                                                      'type': 'struct'}},\n",
       "                                                            {'metadata': {},\n",
       "                                                             'name': 'supercategory',\n",
       "                                                             'nullable': True,\n",
       "                                                             'type': 'string'}],\n",
       "                                                 'type': 'struct'},\n",
       "                                 'type': 'array'}},\n",
       "                       {'metadata': {},\n",
       "                        'name': 'image',\n",
       "                        'nullable': True,\n",
       "                        'type': {'fields': [{'metadata': {},\n",
       "                                             'name': 'data',\n",
       "                                             'nullable': True,\n",
       "                                             'type': 'binary'},\n",
       "                                            {'metadata': {},\n",
       "                                             'name': 'uri',\n",
       "                                             'nullable': True,\n",
       "                                             'type': 'string'}],\n",
       "                                 'type': 'struct'}}],\n",
       "            'type': 'struct'},\n",
       " 'uri': 'file:/home/chang/code/eto/sophon/src/api/spark-warehouse/little_coco'}"
      ]
     },
     "execution_count": 4,
     "metadata": {},
     "output_type": "execute_result"
    }
   ],
   "source": [
    "eto.get_dataset('little_coco')"
   ]
  },
  {
   "cell_type": "markdown",
   "id": "4122260d-6c43-4520-9432-f98cc39ef76f",
   "metadata": {},
   "source": [
    "## DataFrame integration"
   ]
  },
  {
   "cell_type": "code",
   "execution_count": 4,
   "id": "455bf986-56ff-448a-9f31-61d4d6d8bb0d",
   "metadata": {},
   "outputs": [],
   "source": [
    "import pandas as pd"
   ]
  },
  {
   "cell_type": "code",
   "execution_count": 5,
   "id": "739a72f3-5f87-4a04-bfac-b265591621ab",
   "metadata": {},
   "outputs": [
    {
     "name": "stderr",
     "output_type": "stream",
     "text": [
      "2021-12-16 20:06:13,812 INFO Rikai (dataset.py:111): Loading parquet files: ['s3://eto-warehouse-demo/warehouse/test/part-00000-dc67f6a3-0243-4ba6-bb80-f2aafb94a11d-c000.snappy.parquet', 's3://eto-warehouse-demo/warehouse/test/part-00001-dc67f6a3-0243-4ba6-bb80-f2aafb94a11d-c000.snappy.parquet']\n"
     ]
    },
    {
     "data": {
      "text/html": [
       "<div>\n",
       "<style scoped>\n",
       "    .dataframe tbody tr th:only-of-type {\n",
       "        vertical-align: middle;\n",
       "    }\n",
       "\n",
       "    .dataframe tbody tr th {\n",
       "        vertical-align: top;\n",
       "    }\n",
       "\n",
       "    .dataframe thead th {\n",
       "        text-align: right;\n",
       "    }\n",
       "</style>\n",
       "<table border=\"1\" class=\"dataframe\">\n",
       "  <thead>\n",
       "    <tr style=\"text-align: right;\">\n",
       "      <th></th>\n",
       "      <th>id</th>\n",
       "    </tr>\n",
       "  </thead>\n",
       "  <tbody>\n",
       "    <tr>\n",
       "      <th>0</th>\n",
       "      <td>1</td>\n",
       "    </tr>\n",
       "  </tbody>\n",
       "</table>\n",
       "</div>"
      ],
      "text/plain": [
       "   id\n",
       "0   1"
      ]
     },
     "execution_count": 5,
     "metadata": {},
     "output_type": "execute_result"
    }
   ],
   "source": [
    "df = pd.read_eto('test')\n",
    "df"
   ]
  },
  {
   "cell_type": "markdown",
   "id": "7bb259df-ce7f-4744-82e1-784527052790",
   "metadata": {},
   "source": [
    "## Pytorch data loader"
   ]
  },
  {
   "cell_type": "code",
   "execution_count": 6,
   "id": "1ecae2d5-f4e7-45bf-b82f-3d1e25dd88dd",
   "metadata": {},
   "outputs": [],
   "source": [
    "from rikai.torch.data import DataLoader"
   ]
  },
  {
   "cell_type": "code",
   "execution_count": 7,
   "id": "f221c963-ffb2-47e1-ae4f-ad4ca401f704",
   "metadata": {},
   "outputs": [
    {
     "name": "stderr",
     "output_type": "stream",
     "text": [
      "2021-12-16 20:07:21,863 INFO Rikai (dataset.py:111): Loading parquet files: ['s3://eto-warehouse-demo/warehouse/test/part-00000-dc67f6a3-0243-4ba6-bb80-f2aafb94a11d-c000.snappy.parquet', 's3://eto-warehouse-demo/warehouse/test/part-00001-dc67f6a3-0243-4ba6-bb80-f2aafb94a11d-c000.snappy.parquet']\n"
     ]
    },
    {
     "data": {
      "text/plain": [
       "[{'id': 1}]"
      ]
     },
     "execution_count": 7,
     "metadata": {},
     "output_type": "execute_result"
    }
   ],
   "source": [
    "loader = DataLoader('test')\n",
    "next(loader.__iter__())"
   ]
  },
  {
   "cell_type": "code",
   "execution_count": null,
   "id": "b1d44c3a-7800-4825-9a9d-a6e0c368c571",
   "metadata": {},
   "outputs": [],
   "source": []
  }
 ],
 "metadata": {
  "kernelspec": {
   "display_name": "Python 3 (ipykernel)",
   "language": "python",
   "name": "python3"
  },
  "language_info": {
   "codemirror_mode": {
    "name": "ipython",
    "version": 3
   },
   "file_extension": ".py",
   "mimetype": "text/x-python",
   "name": "python",
   "nbconvert_exporter": "python",
   "pygments_lexer": "ipython3",
   "version": "3.9.7"
  }
 },
 "nbformat": 4,
 "nbformat_minor": 5
}
